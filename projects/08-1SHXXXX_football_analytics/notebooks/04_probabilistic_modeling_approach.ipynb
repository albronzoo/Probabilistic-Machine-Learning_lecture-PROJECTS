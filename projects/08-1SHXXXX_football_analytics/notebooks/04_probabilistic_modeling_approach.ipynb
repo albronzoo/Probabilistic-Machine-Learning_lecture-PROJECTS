{
  "nbformat": 4,
  "nbformat_minor": 0,
  "metadata": {
    "colab": {
      "provenance": [],
      "include_colab_link": true
    },
    "kernelspec": {
      "name": "python3",
      "display_name": "Python 3"
    },
    "language_info": {
      "name": "python"
    }
  },
  "cells": [
    {
      "cell_type": "markdown",
      "metadata": {
        "id": "view-in-github",
        "colab_type": "text"
      },
      "source": [
        "<a href=\"https://colab.research.google.com/github/hannesstuehrenberg/Probabilistic-Machine-Learning_lecture-PROJECTS/blob/08-1SHXXXX_football_analytics/projects/08-1SHXXXX_football_analytics/notebooks/04_probabilistic_modeling_approach.ipynb\" target=\"_parent\"><img src=\"https://colab.research.google.com/assets/colab-badge.svg\" alt=\"Open In Colab\"/></a>"
      ]
    },
    {
      "cell_type": "markdown",
      "source": [
        "\n",
        "4. Probabilistic Modeling Approach\n",
        "\n",
        "* Description of the models chosen\n",
        "* Why they are suitable for your problem\n",
        "* Mathematical formulations (if applicable)\n",
        "\n"
      ],
      "metadata": {
        "id": "u6ePUg7AtDnL"
      }
    },
    {
      "cell_type": "markdown",
      "source": [
        "Recovered work"
      ],
      "metadata": {
        "id": "-icQX4VMtn2A"
      }
    }
  ]
}