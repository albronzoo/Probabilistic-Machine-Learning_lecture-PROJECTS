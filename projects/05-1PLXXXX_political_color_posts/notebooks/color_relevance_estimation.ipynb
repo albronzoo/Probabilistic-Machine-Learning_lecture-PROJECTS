{
 "cells": [
  {
   "cell_type": "code",
   "execution_count": null,
   "metadata": {
    "id": "MXu1i0JN585n"
   },
   "outputs": [],
   "source": [
    "import numpy as np\n",
    "import pandas as pd\n",
    "import matplotlib.pyplot as plt\n",
    "from sklearn.ensemble import RandomForestClassifier\n",
    "from sklearn.preprocessing import LabelEncoder\n",
    "from sklearn.model_selection import cross_val_predict, StratifiedKFold\n",
    "\n",
    "# read csv\n",
    "df = pd.read_csv('rgb_color_palettes.csv')\n",
    "\n",
    "# extract features + labels\n",
    "feature_columns = [f'feature_{i}' for i in range(12)]\n",
    "X = df[feature_columns].values\n",
    "y = df['party'].values\n",
    "\n",
    "# label-encoding\n",
    "le = LabelEncoder()\n",
    "y_encoded = le.fit_transform(y)\n",
    "\n",
    "# classifier\n",
    "clf = RandomForestClassifier(n_estimators=100, random_state=42)\n",
    "\n",
    "# Cross-Val Confidence\n",
    "cv = StratifiedKFold(n_splits=5, shuffle=True, random_state=42)\n",
    "probs_cv = cross_val_predict(clf, X, y_encoded, cv=cv, method='predict_proba')\n",
    "\n",
    "# max-prob per post\n",
    "max_probs_cv = probs_cv.max(axis=1)\n",
    "\n",
    "df['confidence'] = max_probs_cv\n",
    "\n",
    "\n",
    "plt.hist(df['confidence'], bins=20, color='skyblue', edgecolor='black')\n",
    "plt.xlabel('Confidence (Cross-Validated)')\n",
    "plt.ylabel('Number of Posts')\n",
    "plt.title('Confidence Distribution HSV (Cross-Validation)')\n",
    "plt.show()\n",
    "\n",
    "#threshold\n",
    "df_neutral = df[df['confidence'] < 0.4]\n",
    "df_parteitypisch = df[df['confidence'] >= 0.4]\n",
    "\n",
    "print(f'Anzahl neutraler Posts (Confidence < 0.4): {len(df_neutral)}')\n",
    "print(df_neutral[['party', 'filename', 'confidence']].head())"
   ]
  },
  {
   "cell_type": "code",
   "execution_count": null,
   "metadata": {
    "executionInfo": {
     "elapsed": 209,
     "status": "ok",
     "timestamp": 1746090954460,
     "user": {
      "displayName": "Lukas Pasold",
      "userId": "06420352777570022367"
     },
     "user_tz": -120
    },
    "id": "qhU6GfrqB7_I"
   },
   "outputs": [],
   "source": [
    "# create new csv\n",
    "df['relevant'] = (df['confidence'] >= 0.4).astype(int)\n",
    "df.to_csv('final-features-rgb.csv', index=False)"
   ]
  }
 ],
 "metadata": {
  "colab": {
   "authorship_tag": "ABX9TyMQaxx4npglq8d8TSiq3qkY",
   "provenance": []
  },
  "kernelspec": {
   "display_name": "Python 3",
   "name": "python3"
  },
  "language_info": {
   "name": "python"
  }
 },
 "nbformat": 4,
 "nbformat_minor": 0
}
