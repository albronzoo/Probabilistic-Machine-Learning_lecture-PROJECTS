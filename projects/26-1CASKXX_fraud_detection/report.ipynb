{
 "cells": [
  {
   "cell_type": "markdown",
   "id": "6b8f5d6f-076c-447d-bef2-80819d48ef73",
   "metadata": {},
   "source": [
    "# Probabilistic Machine Learning - Project Report\n",
    "\n",
    "## Fraud detection\n",
    "\n",
    "- **Course:** Probabilistic Machine Learning (SoSe 2025)\n",
    "- **Lecturer:** Alvaro Diaz-Ruelas\n",
    "- **Students Names:**  khalid Sabih, abdellah charki\n",
    "- **GitHub Usernames:**  @khalidsabih / @abdellahcharki\n",
    "- **Date:**  05/07/2025\n",
    "- **PROJECT-ID:** 26-1CASKXX  \n",
    "\n",
    "---"
   ]
  },
  {
   "cell_type": "markdown",
   "id": "6cd5953b-fa07-4df8-9ede-ff33b5867093",
   "metadata": {},
   "source": [
    "# 1. Introduction"
   ]
  },
  {
   "cell_type": "markdown",
   "id": "3554a04d-57da-404b-88b3-7caa294ac841",
   "metadata": {},
   "source": [
    "## 1.1 Motivation\n",
    "Fraud detection has become an increasingly critical task in financial systems and digital transactions, where even a small number of fraudulent activities can result in significant financial losses and erode trust in institutions. The complexity of detecting fraud arises from its rarity and the constantly evolving tactics used by fraudsters to conceal illicit activities within massive volumes of legitimate transactions. As organizations handle millions of financial operations daily, distinguishing fraudulent patterns from normal behavior is both technically challenging and essential for operational security and customer trust."
   ]
  },
  {
   "cell_type": "markdown",
   "id": "75f433af-293f-4cf5-99d5-1e5ed705ff88",
   "metadata": {},
   "source": [
    "## 1.2 Dataset\n",
    "The dataset used in this project, named Fraud.csv, consists of approximately 6 million synthetic financial transactions, created to reflect realistic banking operations while protecting privacy. Each transaction record contains several attributes that describe its details, including both numerical and categorical features. The primary challenge posed by this dataset is the severe class imbalance, as fraudulent transactions account for fewer than 0.2% of all records, making fraud detection a complex and highly imbalanced classification problem.\n",
    "\n",
    "The dataset includes the following columns:\n",
    "\n",
    "- step: The hour of the simulation.\n",
    "- type: The type of transaction, such as PAYMENT, TRANSFER, CASH_OUT, DEBIT, or CASH_IN.\n",
    "- amount: The amount of money involved in the transaction.\n",
    "- nameOrig: An anonymized identifier for the originator’s account.\n",
    "- oldbalanceOrg: The account balance of the originator before the transaction.\n",
    "- newbalanceOrig: The account balance of the originator after the transaction.\n",
    "- nameDest: An anonymized identifier for the recipient’s account.\n",
    "- oldbalanceDest: The account balance of the recipient before the transaction.\n",
    "- newbalanceDest: The account balance of the recipient after the transaction.\n",
    "- isFraud: A binary label indicating whether the transaction was fraudulent (1) or not (0).\n",
    "- isFlaggedFraud: A binary flag indicating whether the transaction was flagged as suspicious by internal business rules."
   ]
  },
  {
   "cell_type": "markdown",
   "id": "b3c2ab2f-0a13-4dfb-b40f-fdb23e6703a4",
   "metadata": {},
   "source": [
    "## 1.3 Hypothesis\n",
    "- Fraudulent transactions are more likely to occur in specific transaction types, particularly TRANSFER and CASH_OUT, compared to other types such as PAYMENT or CASH_IN.\n",
    "- Fraudulent transactions tend to involve higher transaction amounts than legitimate transactions.\n",
    "- Fraudulent transactions often result in the destination account balance dropping to zero, suggesting immediate withdrawal or transfer of illicit funds."
   ]
  },
  {
   "cell_type": "markdown",
   "id": "664968ed-44cf-4df3-971f-99fa14324f98",
   "metadata": {},
   "source": [
    "# 2. Data Loading and Exploration\n",
    "## 2.1. Data Loading\n",
    "We use a synthetic fraud detection dataset for training and evaluating fraud detection models.\n",
    "\n",
    "\n",
    "[Fraud Detection Dataset – Kaggle](https://www.kaggle.com/datasets/ashishkumarjayswal/froud-detection-dataset)\n",
    "\n",
    "\n",
    "Our analysis begins with loading the dataset Fraud.csv, which is stored in the  `data/` folder of our project repository. We use the pandas library in Python to handle the file, as it efficiently manages large datasets and provides useful tools for data exploration.\n",
    "\n",
    "**Snapshot of Original Dataset (Before Preprocessing)**\n"
   ]
  },
  {
   "cell_type": "markdown",
   "id": "5ed1ad35",
   "metadata": {},
   "source": [
    "| step | type      | amount   | nameOrig       | oldbalanceOrg | newbalanceOrig | nameDest     | oldbalanceDest | newbalanceDest | isFraud | isFlaggedFraud |\n",
    "|------|-----------|----------|----------------|---------------|----------------|--------------|----------------|----------------|---------|----------------|\n",
    "| 1    | PAYMENT   | 9839.64  | C1231006815    | 170136.0      | 160296.36      | M1979787155  | 0.0            | 0.0            | 0       | 0              |\n",
    "| 1    | PAYMENT   | 1864.28  | C1666544295    | 21249.0       | 19384.72       | M2044282225  | 0.0            | 0.0            | 0       | 0              |\n",
    "| 1    | TRANSFER  | 181.00   | C1305486145    | 181.0         | 0.00           | C553264065   | 0.0            | 0.0            | 1       | 0              |\n",
    "| 1    | CASH_OUT  | 181.00   | C840083671     | 181.0         | 0.00           | C38997010    | 21182.0        | 0.0            | 1       | 0              |\n",
    "| 1    | PAYMENT   | 11668.14 | C2048537720    | 41554.0       | 29885.86       | M1230701703  | 0.0            | 0.0            | 0       | 0              |\n"
   ]
  },
  {
   "cell_type": "markdown",
   "id": "4a4076fa",
   "metadata": {},
   "source": [
    "## 2.2. Data Exploration\n",
    "After successfully loading the dataset, we performed a detailed exploratory data analysis to better understand its structure and the nature of fraudulent transactions.\n"
   ]
  },
  {
   "cell_type": "markdown",
   "id": "0016dd21",
   "metadata": {},
   "source": [
    "### 2.2.1 Class Distribution\n",
    "A critical first step was to examine the distribution of our target variable, isFraud. As shown in Figure  (Class Distribution), fraudulent transactions are extremely rare, accounting for only about 0.13% of all transactions. In absolute terms, there are 8,213 fraudulent transactions out of a total of 6,354,620 transactions, which is consistent with the class distribution reported as follows:\n",
    "- Non-fraudulent (0): 6,354,407 transactions (99.87%)\n",
    "- Fraudulent (1): 8,213 transactions (0.13%)\n",
    "\n",
    "\n",
    "![Class Distribution](/results/class_distribution.png)\n",
    "\n",
    "This significant class imbalance underscores the challenges associated with fraud detection, where traditional metrics like overall accuracy would be misleading."
   ]
  },
  {
   "cell_type": "markdown",
   "id": "5cfa72ff",
   "metadata": {},
   "source": [
    "### 2.2.2 Fraud Rate by Transaction Type\n",
    "We then analyzed how fraud is distributed across different transaction types. The dataset includes various transaction categories such as PAYMENT, TRANSFER, CASH_OUT, DEBIT, and CASH_IN. Our analysis revealed that fraud is concentrated almost exclusively in the TRANSFER and CASH_OUT transaction types.\n",
    "Figure (Fraud Rate by Transaction Type) illustrates that:\n",
    "\n",
    "- TRANSFER transactions account for approximately 80.69% of fraudulent activity.\n",
    "\n",
    "- CASH_OUT transactions account for about 19.31% of fraud.\n",
    "\n",
    "- Other transaction types show virtually no fraud.\n",
    "\n",
    "![Fraud Rate by Transaction Type](./results/fraud_rate_by_transaction.png)\n",
    "\n",
    "These findings highlight the importance of transaction type as a strong predictor of fraud."
   ]
  },
  {
   "cell_type": "markdown",
   "id": "667ebfe4",
   "metadata": {},
   "source": [
    "### 2.2.3 Transaction Type vs. Fraud Count\n",
    "To visualize how fraud and non-fraud transactions are distributed across different transaction types, we plotted a count graph, shown in Figure 3 (Transaction Type vs. Fraud). The chart confirms that while PAYMENT, CASH_IN, and DEBIT transactions are numerous, they rarely involve fraud. By contrast, TRANSFER and CASH_OUT transactions, although less frequent overall, carry a much higher proportion of fraudulent cases relative to their volume.\n",
    "\n",
    "This information is critical for model development, suggesting that the transaction type should be included as a categorical feature in any predictive modeling approach.\n",
    "\n",
    "\n",
    "![Transaction Type vs. Fraud Count](./results/Transaction_Type_vs_Fraud.png)\n"
   ]
  },
  {
   "cell_type": "markdown",
   "id": "990f7d03",
   "metadata": {},
   "source": [
    "### 2.2.4 Correlation Analysis\n",
    "To further investigate relationships between variables, we computed and visualized a correlation heatmap, presented in Figure (Correlation Heatmap). \n",
    "The heatmap provides insights into how features relate to each other and to the target variable `isFraud`.\n",
    "\n",
    "The strongest positive correlations with isFraud were observed for:\n",
    "\n",
    "- `amount` (correlation coefficient ≈ 0.0767)\n",
    "- `type_TRANSFER` (≈ 0.0539)\n",
    "- `isFlaggedFraud` (≈ 0.0441)\n",
    "\n",
    "Meanwhile, features such as type_PAYMENT show a slight negative correlation with fraud. Although these correlation values are generally low, they point to certain trends that may help distinguish fraudulent transactions.\n",
    "\n",
    "![Correlation Analysis](results/heatmap.png)"
   ]
  },
  {
   "cell_type": "markdown",
   "id": "08255acb",
   "metadata": {},
   "source": [
    "### 2.2.5 Insights from Data Exploration\n",
    "From this exploratory phase, we can conclude several important patterns:\n",
    "\n",
    "- The dataset is highly imbalanced, with fraud representing less than 0.2% of transactions.\n",
    "- Fraud occurs almost exclusively in TRANSFER and CASH_OUT transactions.\n",
    "- Fraudulent transactions often involve larger amounts, supporting the hypothesis that transaction value is a key indicator of potential fraud.\n",
    "- Correlation analysis, while showing modest relationships, suggests that transaction type and amount are among the most informative features for predicting fraud.\n",
    "\n",
    "These findings inform the direction of our feature engineering and modeling strategies. In particular, they emphasize the need to account for class imbalance and to focus on transaction types and amounts when building fraud detection models."
   ]
  },
  {
   "cell_type": "markdown",
   "id": "90fe0c5a-f0f4-4088-8f7a-23ba05088f25",
   "metadata": {},
   "source": [
    "## 3. Data Preprocessing\n",
    "Before developing any models, we performed several preprocessing steps to prepare the dataset for analysis. These steps ensured that the data was clean, consistent, and suitable for machine learning algorithms.\n",
    "\n",
    "- **Verified missing values:**  Checked all columns and confirmed there was no missing data.\n",
    "- **Data type checks:** Verified that numeric columns remained as floats or integers, and that new one-hot encoded columns were stored as boolean values.\n",
    "- **remove unneeded column:**  Removed the columns  `nameOrig` and `nameDest`.\n",
    "- **Column transfer:**  Transformed the type column (categorical) into multiple binary columns such as `type_PAYMENT`, `type_TRANSFER`, etc. Each new column indicates whether the transaction belongs to that type (True/False).\n",
    "\n",
    " **Snapshot of Transformed Data**"
   ]
  },
  {
   "cell_type": "markdown",
   "id": "f1e69879",
   "metadata": {},
   "source": [
    "\n",
    "| step | amount   | oldbalanceOrg | newbalanceOrig | oldbalanceDest | newbalanceDest | isFraud | isFlaggedFraud | type_CASH_OUT | type_DEBIT | type_PAYMENT | type_TRANSFER |\n",
    "|------|----------|---------------|----------------|----------------|----------------|---------|----------------|---------------|------------|--------------|---------------|\n",
    "| 1    | 9839.64  | 170136.00     | 160296.36      | 0.00           | 0.00           | 0       | 0              | False         | False      | True         | False         |\n",
    "| 1    | 1864.28  | 21249.00      | 19384.72       | 0.00           | 0.00           | 0       | 0              | False         | False      | True         | False         |\n",
    "| 1    | 181.00   | 181.00        | 0.00           | 0.00           | 0.00           | 1       | 0              | False         | False      | False        | True          |\n",
    "| 1    | 181.00   | 181.00        | 0.00           | 21182.00       | 0.00           | 1       | 0              | True          | False      | False        | False         |\n",
    "| 1    | 11668.14 | 41554.00      | 29885.86       | 0.00           | 0.00           | 0       | 0              | False         | False      | True         | False         |"
   ]
  },
  {
   "cell_type": "markdown",
   "id": "38639b92-f5da-4a1a-b44a-ccca9ce1b921",
   "metadata": {},
   "source": [
    "## 4. Modeling Approach\n",
    "- Description of the models chosen\n",
    "- Why they are suitable for your problem\n",
    "- Mathematical formulations (if applicable)"
   ]
  },
  {
   "cell_type": "markdown",
   "id": "acbd02fa-90ee-4d3f-aa6f-83ebc6d70f12",
   "metadata": {},
   "source": [
    "## 5. Model Training and Evaluation\n",
    "- Training process\n",
    "- Model evaluation (metrics, plots, performance)\n",
    "- Cross-validation or uncertainty quantification"
   ]
  },
  {
   "cell_type": "markdown",
   "id": "7bd14725-ab42-4588-8f8e-c5935726c10d",
   "metadata": {},
   "source": [
    "## 6. Results\n",
    "- Present key findings\n",
    "- Comparison of models if multiple approaches were used"
   ]
  },
  {
   "cell_type": "markdown",
   "id": "b8f1f4eb-2312-4ef3-ac92-cf0a1d0eff7f",
   "metadata": {},
   "source": [
    "## 7. Discussion\n",
    "- Interpretation of results\n",
    "- Limitations of the approach\n",
    "- Possible improvements or extensions"
   ]
  },
  {
   "cell_type": "markdown",
   "id": "62e00b16-7ecf-49ac-9564-3cccf20f0ea0",
   "metadata": {},
   "source": [
    "## 8. Conclusion\n",
    "- Summary of main outcomes"
   ]
  },
  {
   "cell_type": "markdown",
   "id": "91fe95a8-b421-42b9-925c-ed2c17e73169",
   "metadata": {},
   "source": [
    "## 9. References\n",
    "- Cite any papers, datasets, or tools used"
   ]
  }
 ],
 "metadata": {
  "kernelspec": {
   "display_name": "pml_env",
   "language": "python",
   "name": "python3"
  },
  "language_info": {
   "codemirror_mode": {
    "name": "ipython",
    "version": 3
   },
   "file_extension": ".py",
   "mimetype": "text/x-python",
   "name": "python",
   "nbconvert_exporter": "python",
   "pygments_lexer": "ipython3",
   "version": "3.13.5"
  }
 },
 "nbformat": 4,
 "nbformat_minor": 5
}
