{
 "cells": [
  {
   "cell_type": "markdown",
   "id": "cb3f1466",
   "metadata": {},
   "source": [
    "# Documentation of UEFA EURO DATA \n",
    "## by Valentina Gruber\n",
    "\n",
    "Ändern: Warum Fbref eine reliable source ist\n",
    "Erklären, was optimale amount of clusters sind"
   ]
  }
 ],
 "metadata": {
  "language_info": {
   "name": "python"
  }
 },
 "nbformat": 4,
 "nbformat_minor": 5
}
