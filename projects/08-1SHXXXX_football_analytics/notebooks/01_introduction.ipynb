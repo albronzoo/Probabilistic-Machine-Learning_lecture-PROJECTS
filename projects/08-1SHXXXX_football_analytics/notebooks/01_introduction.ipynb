{
  "cells": [
    {
      "metadata": {
        "id": "515fbb63385dfbbf"
      },
      "cell_type": "markdown",
      "source": [
        "## 1. Introduction\n",
        "\n",
        "- Brief description of the dataset and problem\n",
        "- Motivation for your project"
      ],
      "id": "515fbb63385dfbbf"
    },
    {
      "metadata": {
        "id": "99d6533581693a48"
      },
      "cell_type": "markdown",
      "source": [
        "Hudl Statsbomb claims to be offering the most comprehensive and flexible football data. The company makes some of their data freely available to equip the next generation of analysts with the tools, training and resources needed to succeed in the industry. The available data range from historical matches to analyse [legends of the game](https://www.hudl.com/blog/statsbomb-icons-pele) over [outstanding seasons](https://blogarchive.statsbomb.com/news/free-statsbomb-data-bayer-leverkusens-invincible-bundesliga-title-win/) and [tournaments](https://blogarchive.statsbomb.com/news/statsbomb-release-free-2023-womens-world-cup-data/) to [all league matches from Lionel Messis career](https://www.hudl.com/blog/statsbomb-release-free-lionel-messi-data-psg-and-inter-miami). In total there are data and every event that happend for over 3000 matches from more than 20 competitions. They are puplished on the [statsbomb github](https://github.com/statsbomb/open-data). [Libraries for processing the data](https://mplsoccer.readthedocs.io/en/latest/) in python are also available.\n",
        "\n",
        "In this project I want to use these data to create an expected goals model (xG). My motivation stems from two perspectives.\n",
        "\n",
        "First, like so many, I am a huge football fan. Watching professional football, the expected goals metric is shown during every broadcast. I want to deepen my knowledge of the metric to understand how it is calculated, what influences it and how to interpret it beyond the surface level.\n",
        "\n",
        "Second, in my free time I am an ambitious youth team coach. Being able to quantify the quality of scoring chances can offer valuable insights into my team's performance. It allows me to go beyond just goals and results, and instead evaluate whether we are consistently creating good opportunities and where we can improve. With an xG model, I can provide more objective feedback to players, helping them understand the impact of their decisions in the final third and supporting their development with data-driven guidance."
      ],
      "id": "99d6533581693a48"
    },
    {
      "cell_type": "code",
      "source": [],
      "metadata": {
        "id": "Jy-UzWKL98E0"
      },
      "id": "Jy-UzWKL98E0",
      "execution_count": null,
      "outputs": []
    }
  ],
  "metadata": {
    "kernelspec": {
      "display_name": "Python 3",
      "language": "python",
      "name": "python3"
    },
    "language_info": {
      "codemirror_mode": {
        "name": "ipython",
        "version": 2
      },
      "file_extension": ".py",
      "mimetype": "text/x-python",
      "name": "python",
      "nbconvert_exporter": "python",
      "pygments_lexer": "ipython2",
      "version": "2.7.6"
    },
    "colab": {
      "provenance": []
    }
  },
  "nbformat": 4,
  "nbformat_minor": 5
}