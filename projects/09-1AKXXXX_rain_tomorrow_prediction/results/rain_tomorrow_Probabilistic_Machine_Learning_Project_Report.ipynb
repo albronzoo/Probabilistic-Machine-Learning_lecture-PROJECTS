{
  "cells": [
    {
      "cell_type": "markdown",
      "metadata": {
        "colab_type": "text",
        "id": "view-in-github"
      },
      "source": [
        "<a href=\"https://colab.research.google.com/github/IvaroEkel/Probabilistic-Machine-Learning_lecture-PROJECTS/blob/main/TEMPLATE_Probabilistic_Machine_Learning_Project_Report.ipynb\" target=\"_parent\"><img src=\"https://colab.research.google.com/assets/colab-badge.svg\" alt=\"Open In Colab\"/></a>"
      ]
    },
    {
      "cell_type": "markdown",
      "metadata": {
        "id": "HllaHun_QKXK"
      },
      "source": [
        "# Probabilistic Machine Learning - Project Report\n",
        "\n",
        "**Course:** Probabilistic Machine Learning (SoSe 2025)\n",
        "**Lecturer:** [Alvaro Ruales]  \n",
        "**Student(s) Name(s):Konstantin Abe\n",
        "**GitHub Username(s):MetropolisJenensis\n",
        "**Date:**  \n",
        "**PROJECT-ID:** [Assigned Project ID]  \n",
        "\n",
        "---\n"
      ]
    },
    {
      "cell_type": "markdown",
      "metadata": {
        "id": "U9mvF1sORTHr"
      },
      "source": [
        "## 1. Introduction\n",
        "### 1.1 Dataset\n",
        "The dataset used in this analysis originates from historical weather observations collected across various locations in Australia. It comprises a total of 145,460 records and 23 variables, including both continuous measurements and categorical features. The data is typically used for modeling weather-related outcomes, especially for predicting whether it will rain the following day.\n",
        "Several variables contain missing values, notably Evaporation, Sunshine, Cloud9am, Cloud3pm, and the pressure-related measurements. These missing values must be appropriately handled during data preprocessing to ensure robust analysis and modeling.\n",
        "\n",
        "The target variable for predictive modeling is RainTomorrow, which indicates whether it rained the next day. This makes the dataset particularly suitable for binary classification tasks in the context of weather forecasting.\n",
        "\n",
        "\n",
        "### 1.2 Motivation\n",
        "Preditcting weather patterns, especially rainfall, is crucial for various sectors, including agriculture, transportation, and disaster management. Accurate predictions can help in resource allocation, planning, and mitigating the impacts of adverse weather conditions. This project aims to leverage probabilistic machine learning techniques to build a model that can predict whether it will rain tomorrow based on historical weather data.\n",
        "\n",
        "The prediction of rain is one of the most recognized and visible predictions task in the broader public, largerly due to the presence in modern media, tv and weather apps. Almost any news show wouldn't be complete without a weather forecast, and the public is used to seeing these predictions. \n",
        "But also academia is interested in leveraging machine learning techniques to improve the accuracy of weather predictions. Given the growing complexity of the climate system and the limitations of traditional forecasting methods, artificial intelligence has emerged as a transformative tool. These methods are increasingly used not only to improve predictive accuracy, but also to enhance the detection, attribution, and communication of extreme events. Their ability to integrate heterogeneous data sources and uncover complex spatio-temporal patterns makes them especially suited to this task. As highlighted in [1], developing reliable and explainable machine learning models is a critical step toward strengthening early warning systems and building trust in risk communication and decision-making processes.\n",
        "\n",
        "Due to the complexity of the task, the project will only focus on comparing different methods to each other in the context of the given dataset. The goal is to find the best performing model, eventhough state-of-the-art methods are already more advanced at this point of time. \n",
        "\n",
        "Deriving from that, the project will focus on the following research questions:\n",
        "What is the best performing model for predicting rain tomorrow based on the given dataset?\n",
        "\n",
        "To follow a scientific approach, the project will be structured along the following hypotheses:\n",
        "1. **Hypothesis 1:** A Random Forest model will outperform a Logistic Regression model in predicting whether it will rain tomorrow based on the historical weather data.\n",
        "\n",
        "2. **Hypothesis 2:** A Gradient Boosting model will outperform both the Random Forest and Logistic Regression models in terms of prediction accuracy.\n",
        "\n",
        "3. **Hypothesis 3:** A Neural Network model will outperform all other models in terms of prediction accuracy, given its ability to capture complex patterns in the data."
      ]
    },
    {
      "cell_type": "markdown",
      "metadata": {
        "id": "rWmVdPMYRW4u"
      },
      "source": [
        "\n",
        "## 2. Data Loading and Exploration\n",
        "\n",
        "- Code to load data\n",
        "\n",
        "- Basic exploration (plots, statistics, missing data, etc.)\n",
        "\n",
        "The dataset was loaded from a CSV file using the pandas library. The initial exploration revealed that the dataset contains 145,460 records and 23 variables, including both continuous and categorical features. The target variable, RainTomorrow, is binary, indicating whether it rained the next day. There are several variables with missing values, particularly Evaporation, Sunshine, Cloud9am, Cloud3pm, and pressure-related measurements. These missing values will need to be addressed during data preprocessing. In the column \"Location\" we can find the location of the weather station, which is used to collect the data. The dataset contains 49 different locations, which are shown in the following figure.\n",
        "\n",
        "\n",
        "<img src=\"picture_australia.png\" width=\"45%\"/>\n",
        "\n",
        "\n",
        "<img src=\"rainfall_distribution.png\" width=\"45%\"/>\n",
        "<img src=\"raincounts.png\" width=\"45%\"/>\n",
        "<img src=\"rainfall_per_month.png\" width=\"45%\"/>\n",
        "\n",
        "<img src=\"correlation_matrix.png\" width=\"45%\"/>\n",
        "\n",
        "Out of 145460 records, it did rain on 31880 days.\n",
        "The dates range from 2007-11-01 to 2017-06-25 which are almost 10 years of data.\n",
        "\n",
        "\n",
        "Inspecting the variable Rainfall it is interesting to see, that many of the higher values are linked to floods in Australia. The highest rainfall was recorded in Coffs Harbour, NSW, Australia on 2010-02-17 with 371.0mm of rain. \n",
        "Another high value is linked to the floods in Queensland, Australia in 2010 and 2011."
      ]
    },
    {
      "cell_type": "markdown",
      "metadata": {
        "id": "LRUhDk7WRbiZ"
      },
      "source": [
        "## 3. Data Preprocessing\n",
        "\n",
        "- Steps taken to clean or transform the data\n",
        "\n",
        "\n"
      ]
    },
    {
      "cell_type": "markdown",
      "metadata": {
        "id": "HtlE5KFnRfhM"
      },
      "source": [
        "## 4. Probabilistic Modeling Approach\n",
        "\n",
        "- Description of the models chosen\n",
        "- Why they are suitable for your problem\n",
        "- Mathematical formulations (if applicable)\n",
        "\n"
      ]
    },
    {
      "cell_type": "markdown",
      "metadata": {
        "id": "ndWeYCrFRhWa"
      },
      "source": [
        "## 5. Model Training and Evaluation\n",
        "\n",
        "- Training process\n",
        "- Model evaluation (metrics, plots, performance)\n",
        "- Cross-validation or uncertainty quantification\n",
        "\n"
      ]
    },
    {
      "cell_type": "markdown",
      "metadata": {
        "id": "kgVmBrEoRlbi"
      },
      "source": [
        "## 6. Results\n",
        "\n",
        "- Present key findings\n",
        "- Comparison of models if multiple approaches were used\n",
        "\n"
      ]
    },
    {
      "cell_type": "markdown",
      "metadata": {
        "id": "H0MIdzBjRnGK"
      },
      "source": [
        "## 7. Discussion\n",
        "\n",
        "- Interpretation of results\n",
        "- Limitations of the approach\n",
        "- Possible improvements or extensions\n",
        "\n"
      ]
    },
    {
      "cell_type": "markdown",
      "metadata": {},
      "source": []
    },
    {
      "cell_type": "markdown",
      "metadata": {
        "id": "hkAD7WOFRour"
      },
      "source": [
        "## 8. Conclusion\n",
        "\n",
        "- Summary of main outcomes\n",
        "\n"
      ]
    },
    {
      "cell_type": "markdown",
      "metadata": {},
      "source": [
        "## 9. References\n",
        "\n",
        "[1] Camps-Valls, G., Fernández-Torres, MÁ., Cohrs, KH. et al. Artificial intelligence for modeling and understanding extreme weather and climate events. Nat Commun 16, 1919 (2025). https://doi.org/10.1038/s41467-025-56573-8"
      ]
    },
    {
      "cell_type": "markdown",
      "metadata": {
        "id": "4de-OwR1RqBG"
      },
      "source": [
        "<!-- ## 9. References\n",
        "\n",
        "[1] Camps-Valls, G., Fernández-Torres, MÁ., Cohrs, KH. et al. Artificial intelligence for modeling and understanding extreme weather and climate events. Nat Commun 16, 1919 (2025). https://doi.org/10.1038/s41467-025-56573-8\n",
        "\n",
        "[2] Additional references as needed. -->"
      ]
    }
  ],
  "metadata": {
    "colab": {
      "authorship_tag": "ABX9TyMd8hNYfc5F/MlA7kSAzq0o",
      "include_colab_link": true,
      "private_outputs": true,
      "provenance": []
    },
    "kernelspec": {
      "display_name": "prob",
      "language": "python",
      "name": "python3"
    },
    "language_info": {
      "codemirror_mode": {
        "name": "ipython",
        "version": 3
      },
      "file_extension": ".py",
      "mimetype": "text/x-python",
      "name": "python",
      "nbconvert_exporter": "python",
      "pygments_lexer": "ipython3",
      "version": "3.13.5"
    }
  },
  "nbformat": 4,
  "nbformat_minor": 0
}
