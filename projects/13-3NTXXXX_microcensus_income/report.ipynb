{
 "cells": [
  {
   "cell_type": "markdown",
   "id": "576f7887",
   "metadata": {},
   "source": [
    "# Probabilistic Machine Learning - Project Report\n",
    "**Course:** Probabilistic Machine Learning (SoSe 2025)  \n",
    "**Lecturer:** Alvaro Diaz-Ruelas  \n",
    "**Student(s) Name(s):**  Timm Nicklaus  \n",
    "**GitHub Username(s):**  t1mmb0  \n",
    "**Date:**  02.07.25  \n",
    "**PROJECT-ID:** 13-3NTXXXX  \n",
    "\n",
    "---\n"
   ]
  },
  {
   "cell_type": "markdown",
   "id": "aa699f7b",
   "metadata": {},
   "source": [
    "## 1. Introduction"
   ]
  },
  {
   "cell_type": "markdown",
   "id": "fb53c462",
   "metadata": {},
   "source": [
    "\n",
    "\n",
    "### Motivation\n",
    "- Social indicators are important metrics collected by the Federal Republic of Germany to draw conclusions about societal structures.\n",
    "- This project investigates the relationship between sociodemographic characteristics and income, using probabilistic models to analyze and interpret these relationships.\n",
    "- The focus lies on identifying which characteristics of the main income earner significantly influence the income level and therefore the social position of the entire household.\n",
    "\n",
    "### Dataset\n",
    "- CAMPUS file from the 2010 Microcensus (fully anonymized and designed for academic/student use)\n",
    "- The CAMPUS file is a 3.5% sample of the 2010 Microcensus, containing data on 23,374 individuals from 11,494 households. In total, 427 of the original 828 features are included in the dataset.\n",
    "- From these, 13 features were selected that relate to the main income earner, along with the regional context (East/West Germany).\n",
    "- The analyzed features include:\n",
    "\n",
    "  1. Gender, marital status, education  \n",
    "  2. Employment status, occupation, sector, type of employment  \n",
    "  3. Nationality, housing situation, household role\n",
    "\n",
    "- **Target variable:**  \n",
    "  Income of the main income earner.\n",
    "\n",
    "### Hypothesis\n",
    "- Income is largely influenced by factors over which individuals have limited control – such as gender, nationality, or level of education.\n",
    "- Individuals with higher educational qualifications, stable employment histories, and certain demographic characteristics (e.g., living in a Western German state, German citizenship) are more likely to earn above-average incomes.\n",
    "\n"
   ]
  },
  {
   "cell_type": "markdown",
   "id": "c41339b6",
   "metadata": {},
   "source": [
    "## 2. Data Loading and Transformation"
   ]
  },
  {
   "cell_type": "markdown",
   "id": "32c5147e",
   "metadata": {},
   "source": [
    "\n",
    "\n",
    "- The data was loaded from the CAMPUS file of the 2010 Microcensus using the `data_load()` function.\n",
    "- The script `transformation.py` performs the data transformation.\n",
    "\n",
    "### The following steps were carried out:\n",
    "\n",
    "1. Column names were replaced with descriptive labels.\n",
    "2. A dataset with human-readable feature values was created and saved as *df_labels.csv*.\n",
    "   - This version retains missing values to allow analysis of main income earners without income in the preprocessing section.\n",
    "3. Normalization and removal of missing values.\n",
    "4. Removal of all samples with the following income classes, as they are not comparable:\n",
    "   - 50: *Self-employed farmer*\n",
    "   - 90: *No income*\n",
    "   - 99: *Not specified*\n",
    "5. Application of `LabelEncoder` from the Scikit-learn library:\n",
    "   - *Encode target labels with values between 0 and n_classes-1.*\n",
    "6. Application of `train_test_split` from the Scikit-learn library:\n",
    "   - *test_size = 0.3 → Train: (10,376 × 13) – Test: (4,447 × 13)*\n",
    "7. Saving of the transformed datasets and mappings in the `/data/` directory.\n",
    "\n"
   ]
  },
  {
   "cell_type": "markdown",
   "id": "bfbbba0a",
   "metadata": {},
   "source": [
    "## 3. Data Exploration\n",
    "\n",
    "- All results in this chapter are derived from `exploration.ipynb` and can be verified there."
   ]
  },
  {
   "cell_type": "markdown",
   "id": "7ef62832",
   "metadata": {},
   "source": [
    "\n",
    "### Basic Statistics:"
   ]
  },
  {
   "cell_type": "markdown",
   "id": "3e0eed2c",
   "metadata": {},
   "source": [
    "\n",
    "\n",
    "| Feature                     | Count | Type     | Missing Values |\n",
    "| -------------------------- | ----- | -------- | -------------- |\n",
    "| `federal_state`            | 23,374| nominal  | 0              |\n",
    "| `gender`                   | 23,107| nominal  | 267            |\n",
    "| `citizenship`              | 23,107| nominal  | 267            |\n",
    "| `marital_status`           | 23,107| nominal  | 267            |\n",
    "| `employment_status`        | 23,107| nominal  | 267            |\n",
    "| `employment_sector`        | 15,655| nominal  | 7,722          |\n",
    "| `job`                      | 15,651| nominal  | 7,726          |\n",
    "| `employment_position`      | 15,655| nominal  | 7,722          |\n",
    "| `livelihood`               | 23,107| nominal  | 267            |\n",
    "| `income`                   | 23,107| ordinal  | 267            |\n",
    "| `educational_qualification`| 23,107| ordinal  | 267            |\n",
    "| `highest_qualification`    | 23,079| ordinal  | 295            |\n",
    "| `primary_residence`        | 23,107| metric   | 267            |\n",
    "| `household_relationship`   | 23,107| nominal  | 267            |\n"
   ]
  },
  {
   "cell_type": "markdown",
   "id": "b4072de7",
   "metadata": {},
   "source": [
    "### Analysis of the Missing Values:"
   ]
  },
  {
   "cell_type": "markdown",
   "id": "0a46a69a",
   "metadata": {},
   "source": [
    "- All missing values for `gender` — and consequently the 267 missing values in all other features — originate from individuals living in collective accommodations (*Gemeinschaftsunterkünfte*), according to the source documentation.\n",
    "- Removing these samples is justified, as they provide no useful information for the analysis.\n",
    "\n",
    "\n",
    "\n",
    "<img src=\"plots/Countplots with and without employment.png\" width=\"1500\">\n"
   ]
  },
  {
   "cell_type": "markdown",
   "id": "2c0ab64c",
   "metadata": {},
   "source": [
    "- A clear pattern emerges regarding marital status: individuals without employment are disproportionately widowed.  \n",
    "→ This indicates that many of them are elderly and live on their pension income without being employed.\n"
   ]
  },
  {
   "cell_type": "markdown",
   "id": "6eb24b1d",
   "metadata": {},
   "source": [
    "<img src=\"plots/Livelihood by gender and employment.png\" width=\"1200\">"
   ]
  },
  {
   "cell_type": "markdown",
   "id": "d9612e49",
   "metadata": {},
   "source": [
    "- This evaluation further confirms that individuals without income live off pensions or unemployment benefits."
   ]
  },
  {
   "cell_type": "markdown",
   "id": "72a297eb",
   "metadata": {},
   "source": [
    "### Reducing the Target Variable to Fewer Income Classes"
   ]
  },
  {
   "cell_type": "markdown",
   "id": "13ca5c2f",
   "metadata": {},
   "source": [
    "\n",
    "- `create_income_classes.ipynb` reduces the original 24 income classes to 5.\n",
    "- This leads to improved and more informative results.\n",
    "\n",
    "#### Creating Income Classes with 1D K-Means Clustering\n",
    "- Uses `KMeans` from the Scikit-learn library.\n",
    "- Not ideally suited for ordinal features.\n",
    "\n",
    "\n",
    "\n",
    "\n",
    "<img src=\"plots/Income classes.png\" width=\"1000\">\n",
    "\n",
    "---\n",
    "\n",
    "| Cluster | Income (approx.)  | Classes | Typical Meaning                  |\n",
    "| ------- | ----------------- | ------- | -------------------------------- |\n",
    "| 0       | €2,000 – €2,900   | 11–13   | **Middle-income earners**        |\n",
    "| 1       | €1,300 – €2,000   | 8–10    | **Lower end of employees**     |\n",
    "| 2       | €2,900 – €4,500   | 14–17   | **Higher earners**               |\n",
    "| 3       | below €1,300      | 1–7     | **At risk of poverty**           |\n",
    "| 4       | above €4,500      | 18–24   | **Top earners**                  |\n",
    "\n",
    "\n"
   ]
  },
  {
   "cell_type": "markdown",
   "id": "2b4081ee",
   "metadata": {},
   "source": [
    "The income thresholds derived from KMeans clustering align well with established socio-statistical benchmarks. This supports the plausibility of the clusters as meaningful analytical income groups. \n",
    "\n",
    "Even though the data is from 2010, it is still valid to say that the resulting classes reasonably reflect the income distribution in Germany.\n",
    "\n",
    "- [The poverty line in Germany is approximately €1,300](https://biaj.de/archiv-materialien/2026-eurostat-armutsgefaehrdung-vor-und-nach-sozialleistungen-in-der-bundesrepublik-deutschland-2023.html)  \n",
    "- [The average income in Germany is around €2,500](https://www.bpb.de/kurz-knapp/zahlen-und-fakten/sozialbericht-2024/553205/einkommen-und-einkommensverteilung/)\n",
    "\n",
    "\n",
    "\n"
   ]
  },
  {
   "cell_type": "markdown",
   "id": "701c1b4e",
   "metadata": {},
   "source": [
    "### CHI² Test"
   ]
  },
  {
   "cell_type": "markdown",
   "id": "6d652fc4",
   "metadata": {},
   "source": [
    "\n",
    "- Implementation: **categorical_nb.ipynb**\n",
    "\n",
    "| Rank | Feature                     | Chi² Score | p-Value |\n",
    "|------|-----------------------------|------------|---------|\n",
    "| 1    | `job`                       | 38,144.87  | 0.00    |\n",
    "| 2    | `livelihood`                | 4,476.60   | 0.00    |\n",
    "| 3    | `highest_qualification`     | 1,305.22   | 0.00    |\n",
    "| 4    | `educational_qualification` | 599.30     | 0.00    |\n",
    "| 5    | `gender`                    | 592.04     | 0.00    |\n",
    "| 6    | `federal_state`             | 545.83     | 0.00    |\n",
    "| 7    | `employment_position`       | 435.50     | 0.00    |\n",
    "| 8    | `household_relationship`    | 368.51     | 0.00    |\n",
    "| 9    | `employment_sector`         | 211.19     | 0.00    |\n",
    "| 10   | `citizenship`               | 67.96      | 0.00    |\n",
    "| 11   | `primary_residence`         | 55.50      | 0.00    |\n",
    "| 12   | `employment_status`         | 46.53      | 0.00    |\n",
    "| 13   | `marital_status`            | 3.11       | 0.54    |\n",
    "\n",
    "- Every feature is statistically significant except for `marital_status`.  \n",
    "However, the Chi² test only measures the individual (marginal) association of each feature with the target.  \n",
    "Therefore, `marital_status` might still have an **indirect** effect on income through interactions with other features.\n",
    "\n",
    "\n"
   ]
  },
  {
   "cell_type": "markdown",
   "id": "618008b3",
   "metadata": {},
   "source": [
    "### Crosstab Analysis"
   ]
  },
  {
   "cell_type": "markdown",
   "id": "7d55c20b",
   "metadata": {},
   "source": [
    "\n",
    "- Displays conditional, bayesian probabilities.\n",
    "\n",
    "- There are significant associations between many features and the target variable. One example is the relationship between `Gender` and `Income`:\n",
    "- It is clearly visible that women, on average, earn less. Higher shares are found in the *lowest* and *low* income classes.\n",
    "\n",
    "<img src=\"plots/Income Level by gender.png\" width=\"800\">\n",
    "\n",
    "- Another interesting pattern emerges for `Federal State` and `Income`:\n",
    "- Households in the new federal states (former East Germany) show significantly lower income levels.\n",
    "\n",
    "<img src=\"plots/Income Level by state.png\" width=\"800\">\n",
    "\n",
    "- ``Educational Qualification`` is also strongly related to ``income``:\n",
    "\n",
    "<img src=\"plots/Income Level by edqual.png\" width=\"500\">"
   ]
  },
  {
   "cell_type": "markdown",
   "id": "bf701f14",
   "metadata": {},
   "source": [
    "## 4. Probabilistic Modeling"
   ]
  },
  {
   "cell_type": "markdown",
   "id": "de50b13b",
   "metadata": {},
   "source": [
    "### Categorical Naive Bayesian Classifier"
   ]
  },
  {
   "cell_type": "markdown",
   "id": "aa3ccf43",
   "metadata": {},
   "source": [
    "- A simple classification model that assumes no dependencies between features.  \n",
    "  Implementation: `categorical_nb.ipynb`\n",
    "- Conceptually similar to the Chi² test, but used as a classification model.\n",
    "\n",
    "Basic Model with `alpha: 1.0`:\n",
    "\n",
    "**Accuracy: 0.49**\n",
    "\n",
    "| Class        | Precision | Recall | F1-Score | Support |\n",
    "|---------------|-----------|--------|----------|---------|\n",
    "| high          | 0.39      | 0.54   | 0.45     | 650     |\n",
    "| highest       | 0.41      | 0.43   | 0.42     | 240     |\n",
    "| lower middle  | 0.50      | 0.65   | 0.57     | 1530    |\n",
    "| lowest        | 0.65      | 0.49   | 0.56     | 852     |\n",
    "| middle        | 0.48      | 0.28   | 0.35     | 1175    |\n",
    "|---------------|-----------|--------|----------|---------|\n",
    "| **Accuracy**      |           |        | **0.49**    | 4447    |\n",
    "| **Macro avg**     | 0.49      | 0.48   | 0.47     | 4447    |\n",
    "| **Weighted avg**  | 0.50      | 0.49   | 0.48     | 4447    |\n",
    "\n",
    "- The classification quality outperforms a decision at random, but can't be considered good.  \n",
    "--> Visualization of typical misclassifications:\n",
    "\n",
    "<img src=\"plots/Confusion Matrix.png\" width=\"500\">\n",
    "\n",
    "- The model is capable of coarse classification but fails at fine-grained categorization. It can distinguish well between high and low incomes, but it is unable to separate neighboring classes with good quality.\n",
    "\n",
    "- Parameter Training with Grid Search `(alpha: [0.01, 0.1, 0.5, 1.0, 2.0])`:\n",
    "\n",
    "| param_alpha | mean_test_score |\n",
    "|-------------|-----------------|\n",
    "| 0.01        | 0.497687        |\n",
    "| 0.10        | 0.497205        |\n",
    "| 0.50        | 0.494989        |\n",
    "| 1.00        | 0.494121        |\n",
    "| 2.00        | 0.490652        |\n",
    "\n",
    "- No improvement:\n",
    "→ The model is not capable of performing well on this kind of data.\n",
    "\n",
    "- The *naive* assumption `No Dependency between Features`:  \n",
    "→ too strong and does not hold well in this dataset.\n",
    "\n",
    "\n"
   ]
  },
  {
   "cell_type": "markdown",
   "id": "026be0ba",
   "metadata": {},
   "source": [
    "### Analysis of Uncertainty"
   ]
  },
  {
   "cell_type": "markdown",
   "id": "1ecba454",
   "metadata": {},
   "source": [
    "#### Connection between max(p) and entropy\n",
    "\n",
    "<img src=\"plots/connection between p and entropy.png\" width=\"500\">"
   ]
  },
  {
   "cell_type": "markdown",
   "id": "64bf2f78",
   "metadata": {},
   "source": [
    "- ``max_probability``: the highest predicted class probability for each instance\n",
    "- ``entropy``: a measure of the model’s prediction uncertainty\n",
    "- Misclassifications (blue) are concentrated at lower probabilities (< 0.6).\n",
    "- These predictions often have high entropy (> 1.0), reflecting uncertainty."
   ]
  },
  {
   "cell_type": "markdown",
   "id": "0a483c3f",
   "metadata": {},
   "source": [
    "BUT:\n",
    "Accuracy on conf. predictions (entropy <0.7 & max_p > 0.5): ``66.35%``\n"
   ]
  },
  {
   "cell_type": "markdown",
   "id": "f4df13e2",
   "metadata": {},
   "source": [
    "<img src=\"plots/box_plots entropy.png\" width=\"500\">"
   ]
  },
  {
   "cell_type": "markdown",
   "id": "b4e2695f",
   "metadata": {},
   "source": [
    "- Lowest entropy for class ``lowest``:  \n",
    "- The model shows consistently lower entropy when predicting instances labeled as lowest, indicating higher confidence in those predictions.\n",
    "- The model is most confident when predicting the lowest income group.\n",
    "- This may imply that the lowest class has distinctive feature patterns, making it easier to separate from the others."
   ]
  },
  {
   "cell_type": "markdown",
   "id": "e1059fef",
   "metadata": {},
   "source": [
    "<img src=\"plots/entropy misclassification.png\" width=\"500\">"
   ]
  },
  {
   "cell_type": "markdown",
   "id": "bf4bd7fd",
   "metadata": {},
   "source": [
    "- The heatmap shows mean entropy for misclassified instances (true ≠ predicted).\n",
    "\n",
    "- High values (e.g. ``highest → middle``, ``lowest → middle``) indicate uncertain misclassifications.\n",
    "\n",
    "- Low entropy but wrong (e.g. ``high → lowest``, entropy = 0.53) → the model was confidently wrong → potentially systematic confusion."
   ]
  },
  {
   "cell_type": "markdown",
   "id": "451935a3",
   "metadata": {},
   "source": [
    "### Bayesian Network\n",
    "*pass*"
   ]
  },
  {
   "cell_type": "markdown",
   "id": "ab4c97d0",
   "metadata": {},
   "source": [
    "\n",
    "## 5. Rule Based Models \n"
   ]
  },
  {
   "cell_type": "markdown",
   "id": "5e7cf56e",
   "metadata": {},
   "source": [
    "### Decision Tree"
   ]
  },
  {
   "cell_type": "markdown",
   "id": "73ea38d0",
   "metadata": {},
   "source": [
    "\n",
    "\n",
    "- A simple rule based model, which is capable of modelling non linear relationship.\n",
    "- Implementation: `decision_tree.ipynb`\n",
    "- basis model: `Decision Tree without pruning or max_depth`  \n",
    "--> depth: 30\n",
    "\n",
    "| Metric                | Value |\n",
    "| --------------------- | ---- |\n",
    "| **Train Accuracy**    | 0.90 |\n",
    "| **Test Accuracy**     | 0.76 |\n",
    "| **Balanced Accuracy** | 0.75 |\n",
    "\n",
    "- high train acc: `overfitting`\n",
    "\n",
    "| Class           | Precision | Recall | F1-Score | Support |\n",
    "| ---------------- | --------- | ------ | -------- | ------- |\n",
    "| **high**         | 0.74      | 0.70   | 0.72     | 650     |\n",
    "| **highest**      | 0.72      | 0.76   | 0.74     | 240     |\n",
    "| **lower middle** | 0.77      | 0.81   | 0.79     | 1530    |\n",
    "| **lowest**       | 0.85      | 0.75   | 0.79     | 852     |\n",
    "| **middle**       | 0.72      | 0.74   | 0.73     | 1175    |\n",
    "\n",
    "- Parameter variation ( `max_depth` and `ccp_alpha`)\n",
    "\n",
    "<img src=\"plots/parameter variation decision tree.png\" width=\"1700\">"
   ]
  },
  {
   "cell_type": "markdown",
   "id": "6691da4a",
   "metadata": {},
   "source": [
    "- ``No pruning (ccp_alpha = 0):`` Highest accuracy on the test dataset, but increased risk of overfitting.\n",
    "\n",
    "- ``Marginal pruning (ccp_alpha = 0.0005 / 0.001):`` High test accuracy with reduced risk of overfitting.\n",
    "\n",
    "- ``Max depth 10–15: Deeper models tend to perform better:`` this range offers a good balance between complexity and generalization."
   ]
  },
  {
   "cell_type": "markdown",
   "id": "22bd2f94",
   "metadata": {},
   "source": [
    "- Parameter Training with Grid Search:\n",
    "\n",
    "- final model:  \n",
    "--> ``{'ccp_alpha': 0.0005, 'criterion': 'entropy', 'max_depth': 10, 'max_features': None}``\n",
    "\n",
    "\n",
    "| Metrik                | Wert |\n",
    "| --------------------- | ---- |\n",
    "| **Train Accuracy**    | 0.61 |\n",
    "| **Test Accuracy**     | 0.56 |\n",
    "| **Balanced Accuracy** | 0.53 |\n",
    "\n",
    "-  average train acc: `reduced risk for overfitting`"
   ]
  },
  {
   "cell_type": "markdown",
   "id": "48e30b59",
   "metadata": {},
   "source": [
    "### Random Forest"
   ]
  },
  {
   "cell_type": "markdown",
   "id": "11ee4fb6",
   "metadata": {},
   "source": [
    "## 6. Results\n",
    "\n",
    "- Present key findings\n",
    "- Comparison of models if multiple approaches were used\n",
    "\n"
   ]
  },
  {
   "cell_type": "markdown",
   "id": "170f5f36",
   "metadata": {},
   "source": [
    "## 7. Discussion\n",
    "\n",
    "- Interpretation of results\n",
    "- Limitations of the approach\n",
    "- Possible improvements or extensions\n",
    "\n"
   ]
  },
  {
   "cell_type": "markdown",
   "id": "68e80ace",
   "metadata": {},
   "source": [
    "## 8. Conclusion\n",
    "\n",
    "- Summary of main outcomes\n",
    "\n"
   ]
  },
  {
   "cell_type": "markdown",
   "id": "b417f7bc",
   "metadata": {},
   "source": [
    "## 9. References\n",
    "\n",
    "- Cite any papers, datasets, or tools used"
   ]
  }
 ],
 "metadata": {
  "kernelspec": {
   "display_name": "venv",
   "language": "python",
   "name": "python3"
  },
  "language_info": {
   "codemirror_mode": {
    "name": "ipython",
    "version": 3
   },
   "file_extension": ".py",
   "mimetype": "text/x-python",
   "name": "python",
   "nbconvert_exporter": "python",
   "pygments_lexer": "ipython3",
   "version": "3.11.9"
  }
 },
 "nbformat": 4,
 "nbformat_minor": 5
}
